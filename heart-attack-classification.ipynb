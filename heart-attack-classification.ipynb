{
 "cells": [
  {
   "cell_type": "markdown",
   "id": "4fea0c76",
   "metadata": {
    "papermill": {
     "duration": 0.011567,
     "end_time": "2024-08-04T12:08:39.311848",
     "exception": false,
     "start_time": "2024-08-04T12:08:39.300281",
     "status": "completed"
    },
    "tags": []
   },
   "source": [
    "## About this dataset\n",
    "###### Age : Age of the patient\n",
    "###### Sex : Sex of the patient\n",
    "#### exang: exercise induced angina (1 = yes; 0 = no)\n",
    "###### ca: number of major vessels (0-3)\n",
    "###### cp : Chest Pain type chest pain type\n",
    "###### Value 1: typical angina\n",
    "###### Value 2: atypical angina\n",
    "###### Value 3: non-anginal pain\n",
    "###### Value 4: asymptomatic\n",
    "###### trtbps : resting blood pressure (in mm Hg)\n",
    "###### chol : cholestoral in mg/dl fetched via BMI sensor\n",
    "###### fbs : (fasting blood sugar > 120 mg/dl) (1 = true; 0 = false)\n",
    "###### rest_ecg : resting electrocardiographic results\n",
    "###### thalach : maximum heart rate achieved\n",
    "###### target : 0= less chance of heart attack 1= more chance of heart attackn##"
   ]
  },
  {
   "cell_type": "code",
   "execution_count": 1,
   "id": "3a4afc17",
   "metadata": {
    "execution": {
     "iopub.execute_input": "2024-08-04T12:08:39.336509Z",
     "iopub.status.busy": "2024-08-04T12:08:39.335733Z",
     "iopub.status.idle": "2024-08-04T12:08:41.696373Z",
     "shell.execute_reply": "2024-08-04T12:08:41.695312Z"
    },
    "papermill": {
     "duration": 2.376001,
     "end_time": "2024-08-04T12:08:41.699172",
     "exception": false,
     "start_time": "2024-08-04T12:08:39.323171",
     "status": "completed"
    },
    "tags": []
   },
   "outputs": [],
   "source": [
    "import numpy as np \n",
    "import pandas as pd\n",
    "import seaborn as sns"
   ]
  },
  {
   "cell_type": "code",
   "execution_count": 2,
   "id": "57d1719c",
   "metadata": {
    "execution": {
     "iopub.execute_input": "2024-08-04T12:08:41.723709Z",
     "iopub.status.busy": "2024-08-04T12:08:41.723118Z",
     "iopub.status.idle": "2024-08-04T12:08:41.773172Z",
     "shell.execute_reply": "2024-08-04T12:08:41.772069Z"
    },
    "papermill": {
     "duration": 0.065246,
     "end_time": "2024-08-04T12:08:41.775780",
     "exception": false,
     "start_time": "2024-08-04T12:08:41.710534",
     "status": "completed"
    },
    "tags": []
   },
   "outputs": [
    {
     "data": {
      "text/html": [
       "<div>\n",
       "<style scoped>\n",
       "    .dataframe tbody tr th:only-of-type {\n",
       "        vertical-align: middle;\n",
       "    }\n",
       "\n",
       "    .dataframe tbody tr th {\n",
       "        vertical-align: top;\n",
       "    }\n",
       "\n",
       "    .dataframe thead th {\n",
       "        text-align: right;\n",
       "    }\n",
       "</style>\n",
       "<table border=\"1\" class=\"dataframe\">\n",
       "  <thead>\n",
       "    <tr style=\"text-align: right;\">\n",
       "      <th></th>\n",
       "      <th>age</th>\n",
       "      <th>sex</th>\n",
       "      <th>cp</th>\n",
       "      <th>trtbps</th>\n",
       "      <th>chol</th>\n",
       "      <th>fbs</th>\n",
       "      <th>restecg</th>\n",
       "      <th>thalachh</th>\n",
       "      <th>exng</th>\n",
       "      <th>oldpeak</th>\n",
       "      <th>slp</th>\n",
       "      <th>caa</th>\n",
       "      <th>thall</th>\n",
       "      <th>output</th>\n",
       "    </tr>\n",
       "  </thead>\n",
       "  <tbody>\n",
       "    <tr>\n",
       "      <th>0</th>\n",
       "      <td>63</td>\n",
       "      <td>1</td>\n",
       "      <td>3</td>\n",
       "      <td>145</td>\n",
       "      <td>233</td>\n",
       "      <td>1</td>\n",
       "      <td>0</td>\n",
       "      <td>150</td>\n",
       "      <td>0</td>\n",
       "      <td>2.3</td>\n",
       "      <td>0</td>\n",
       "      <td>0</td>\n",
       "      <td>1</td>\n",
       "      <td>1</td>\n",
       "    </tr>\n",
       "    <tr>\n",
       "      <th>1</th>\n",
       "      <td>37</td>\n",
       "      <td>1</td>\n",
       "      <td>2</td>\n",
       "      <td>130</td>\n",
       "      <td>250</td>\n",
       "      <td>0</td>\n",
       "      <td>1</td>\n",
       "      <td>187</td>\n",
       "      <td>0</td>\n",
       "      <td>3.5</td>\n",
       "      <td>0</td>\n",
       "      <td>0</td>\n",
       "      <td>2</td>\n",
       "      <td>1</td>\n",
       "    </tr>\n",
       "    <tr>\n",
       "      <th>2</th>\n",
       "      <td>41</td>\n",
       "      <td>0</td>\n",
       "      <td>1</td>\n",
       "      <td>130</td>\n",
       "      <td>204</td>\n",
       "      <td>0</td>\n",
       "      <td>0</td>\n",
       "      <td>172</td>\n",
       "      <td>0</td>\n",
       "      <td>1.4</td>\n",
       "      <td>2</td>\n",
       "      <td>0</td>\n",
       "      <td>2</td>\n",
       "      <td>1</td>\n",
       "    </tr>\n",
       "    <tr>\n",
       "      <th>3</th>\n",
       "      <td>56</td>\n",
       "      <td>1</td>\n",
       "      <td>1</td>\n",
       "      <td>120</td>\n",
       "      <td>236</td>\n",
       "      <td>0</td>\n",
       "      <td>1</td>\n",
       "      <td>178</td>\n",
       "      <td>0</td>\n",
       "      <td>0.8</td>\n",
       "      <td>2</td>\n",
       "      <td>0</td>\n",
       "      <td>2</td>\n",
       "      <td>1</td>\n",
       "    </tr>\n",
       "    <tr>\n",
       "      <th>4</th>\n",
       "      <td>57</td>\n",
       "      <td>0</td>\n",
       "      <td>0</td>\n",
       "      <td>120</td>\n",
       "      <td>354</td>\n",
       "      <td>0</td>\n",
       "      <td>1</td>\n",
       "      <td>163</td>\n",
       "      <td>1</td>\n",
       "      <td>0.6</td>\n",
       "      <td>2</td>\n",
       "      <td>0</td>\n",
       "      <td>2</td>\n",
       "      <td>1</td>\n",
       "    </tr>\n",
       "    <tr>\n",
       "      <th>...</th>\n",
       "      <td>...</td>\n",
       "      <td>...</td>\n",
       "      <td>...</td>\n",
       "      <td>...</td>\n",
       "      <td>...</td>\n",
       "      <td>...</td>\n",
       "      <td>...</td>\n",
       "      <td>...</td>\n",
       "      <td>...</td>\n",
       "      <td>...</td>\n",
       "      <td>...</td>\n",
       "      <td>...</td>\n",
       "      <td>...</td>\n",
       "      <td>...</td>\n",
       "    </tr>\n",
       "    <tr>\n",
       "      <th>298</th>\n",
       "      <td>57</td>\n",
       "      <td>0</td>\n",
       "      <td>0</td>\n",
       "      <td>140</td>\n",
       "      <td>241</td>\n",
       "      <td>0</td>\n",
       "      <td>1</td>\n",
       "      <td>123</td>\n",
       "      <td>1</td>\n",
       "      <td>0.2</td>\n",
       "      <td>1</td>\n",
       "      <td>0</td>\n",
       "      <td>3</td>\n",
       "      <td>0</td>\n",
       "    </tr>\n",
       "    <tr>\n",
       "      <th>299</th>\n",
       "      <td>45</td>\n",
       "      <td>1</td>\n",
       "      <td>3</td>\n",
       "      <td>110</td>\n",
       "      <td>264</td>\n",
       "      <td>0</td>\n",
       "      <td>1</td>\n",
       "      <td>132</td>\n",
       "      <td>0</td>\n",
       "      <td>1.2</td>\n",
       "      <td>1</td>\n",
       "      <td>0</td>\n",
       "      <td>3</td>\n",
       "      <td>0</td>\n",
       "    </tr>\n",
       "    <tr>\n",
       "      <th>300</th>\n",
       "      <td>68</td>\n",
       "      <td>1</td>\n",
       "      <td>0</td>\n",
       "      <td>144</td>\n",
       "      <td>193</td>\n",
       "      <td>1</td>\n",
       "      <td>1</td>\n",
       "      <td>141</td>\n",
       "      <td>0</td>\n",
       "      <td>3.4</td>\n",
       "      <td>1</td>\n",
       "      <td>2</td>\n",
       "      <td>3</td>\n",
       "      <td>0</td>\n",
       "    </tr>\n",
       "    <tr>\n",
       "      <th>301</th>\n",
       "      <td>57</td>\n",
       "      <td>1</td>\n",
       "      <td>0</td>\n",
       "      <td>130</td>\n",
       "      <td>131</td>\n",
       "      <td>0</td>\n",
       "      <td>1</td>\n",
       "      <td>115</td>\n",
       "      <td>1</td>\n",
       "      <td>1.2</td>\n",
       "      <td>1</td>\n",
       "      <td>1</td>\n",
       "      <td>3</td>\n",
       "      <td>0</td>\n",
       "    </tr>\n",
       "    <tr>\n",
       "      <th>302</th>\n",
       "      <td>57</td>\n",
       "      <td>0</td>\n",
       "      <td>1</td>\n",
       "      <td>130</td>\n",
       "      <td>236</td>\n",
       "      <td>0</td>\n",
       "      <td>0</td>\n",
       "      <td>174</td>\n",
       "      <td>0</td>\n",
       "      <td>0.0</td>\n",
       "      <td>1</td>\n",
       "      <td>1</td>\n",
       "      <td>2</td>\n",
       "      <td>0</td>\n",
       "    </tr>\n",
       "  </tbody>\n",
       "</table>\n",
       "<p>303 rows × 14 columns</p>\n",
       "</div>"
      ],
      "text/plain": [
       "     age  sex  cp  trtbps  chol  fbs  restecg  thalachh  exng  oldpeak  slp  \\\n",
       "0     63    1   3     145   233    1        0       150     0      2.3    0   \n",
       "1     37    1   2     130   250    0        1       187     0      3.5    0   \n",
       "2     41    0   1     130   204    0        0       172     0      1.4    2   \n",
       "3     56    1   1     120   236    0        1       178     0      0.8    2   \n",
       "4     57    0   0     120   354    0        1       163     1      0.6    2   \n",
       "..   ...  ...  ..     ...   ...  ...      ...       ...   ...      ...  ...   \n",
       "298   57    0   0     140   241    0        1       123     1      0.2    1   \n",
       "299   45    1   3     110   264    0        1       132     0      1.2    1   \n",
       "300   68    1   0     144   193    1        1       141     0      3.4    1   \n",
       "301   57    1   0     130   131    0        1       115     1      1.2    1   \n",
       "302   57    0   1     130   236    0        0       174     0      0.0    1   \n",
       "\n",
       "     caa  thall  output  \n",
       "0      0      1       1  \n",
       "1      0      2       1  \n",
       "2      0      2       1  \n",
       "3      0      2       1  \n",
       "4      0      2       1  \n",
       "..   ...    ...     ...  \n",
       "298    0      3       0  \n",
       "299    0      3       0  \n",
       "300    2      3       0  \n",
       "301    1      3       0  \n",
       "302    1      2       0  \n",
       "\n",
       "[303 rows x 14 columns]"
      ]
     },
     "execution_count": 2,
     "metadata": {},
     "output_type": "execute_result"
    }
   ],
   "source": [
    "df=pd.read_csv('/kaggle/input/heart-attack/heart.csv')\n",
    "df"
   ]
  },
  {
   "cell_type": "code",
   "execution_count": 3,
   "id": "1bbd0123",
   "metadata": {
    "execution": {
     "iopub.execute_input": "2024-08-04T12:08:41.801000Z",
     "iopub.status.busy": "2024-08-04T12:08:41.800591Z",
     "iopub.status.idle": "2024-08-04T12:08:41.824849Z",
     "shell.execute_reply": "2024-08-04T12:08:41.823582Z"
    },
    "papermill": {
     "duration": 0.039987,
     "end_time": "2024-08-04T12:08:41.827623",
     "exception": false,
     "start_time": "2024-08-04T12:08:41.787636",
     "status": "completed"
    },
    "tags": []
   },
   "outputs": [
    {
     "name": "stdout",
     "output_type": "stream",
     "text": [
      "<class 'pandas.core.frame.DataFrame'>\n",
      "RangeIndex: 303 entries, 0 to 302\n",
      "Data columns (total 14 columns):\n",
      " #   Column    Non-Null Count  Dtype  \n",
      "---  ------    --------------  -----  \n",
      " 0   age       303 non-null    int64  \n",
      " 1   sex       303 non-null    int64  \n",
      " 2   cp        303 non-null    int64  \n",
      " 3   trtbps    303 non-null    int64  \n",
      " 4   chol      303 non-null    int64  \n",
      " 5   fbs       303 non-null    int64  \n",
      " 6   restecg   303 non-null    int64  \n",
      " 7   thalachh  303 non-null    int64  \n",
      " 8   exng      303 non-null    int64  \n",
      " 9   oldpeak   303 non-null    float64\n",
      " 10  slp       303 non-null    int64  \n",
      " 11  caa       303 non-null    int64  \n",
      " 12  thall     303 non-null    int64  \n",
      " 13  output    303 non-null    int64  \n",
      "dtypes: float64(1), int64(13)\n",
      "memory usage: 33.3 KB\n"
     ]
    }
   ],
   "source": [
    "df.info()"
   ]
  },
  {
   "cell_type": "code",
   "execution_count": 4,
   "id": "e1ca754d",
   "metadata": {
    "execution": {
     "iopub.execute_input": "2024-08-04T12:08:41.853381Z",
     "iopub.status.busy": "2024-08-04T12:08:41.852946Z",
     "iopub.status.idle": "2024-08-04T12:08:41.905559Z",
     "shell.execute_reply": "2024-08-04T12:08:41.904362Z"
    },
    "papermill": {
     "duration": 0.068659,
     "end_time": "2024-08-04T12:08:41.908303",
     "exception": false,
     "start_time": "2024-08-04T12:08:41.839644",
     "status": "completed"
    },
    "tags": []
   },
   "outputs": [
    {
     "data": {
      "text/html": [
       "<div>\n",
       "<style scoped>\n",
       "    .dataframe tbody tr th:only-of-type {\n",
       "        vertical-align: middle;\n",
       "    }\n",
       "\n",
       "    .dataframe tbody tr th {\n",
       "        vertical-align: top;\n",
       "    }\n",
       "\n",
       "    .dataframe thead th {\n",
       "        text-align: right;\n",
       "    }\n",
       "</style>\n",
       "<table border=\"1\" class=\"dataframe\">\n",
       "  <thead>\n",
       "    <tr style=\"text-align: right;\">\n",
       "      <th></th>\n",
       "      <th>age</th>\n",
       "      <th>sex</th>\n",
       "      <th>cp</th>\n",
       "      <th>trtbps</th>\n",
       "      <th>chol</th>\n",
       "      <th>fbs</th>\n",
       "      <th>restecg</th>\n",
       "      <th>thalachh</th>\n",
       "      <th>exng</th>\n",
       "      <th>oldpeak</th>\n",
       "      <th>slp</th>\n",
       "      <th>caa</th>\n",
       "      <th>thall</th>\n",
       "      <th>output</th>\n",
       "    </tr>\n",
       "  </thead>\n",
       "  <tbody>\n",
       "    <tr>\n",
       "      <th>count</th>\n",
       "      <td>303.000000</td>\n",
       "      <td>303.000000</td>\n",
       "      <td>303.000000</td>\n",
       "      <td>303.000000</td>\n",
       "      <td>303.000000</td>\n",
       "      <td>303.000000</td>\n",
       "      <td>303.000000</td>\n",
       "      <td>303.000000</td>\n",
       "      <td>303.000000</td>\n",
       "      <td>303.000000</td>\n",
       "      <td>303.000000</td>\n",
       "      <td>303.000000</td>\n",
       "      <td>303.000000</td>\n",
       "      <td>303.000000</td>\n",
       "    </tr>\n",
       "    <tr>\n",
       "      <th>mean</th>\n",
       "      <td>54.366337</td>\n",
       "      <td>0.683168</td>\n",
       "      <td>0.966997</td>\n",
       "      <td>131.623762</td>\n",
       "      <td>246.264026</td>\n",
       "      <td>0.148515</td>\n",
       "      <td>0.528053</td>\n",
       "      <td>149.646865</td>\n",
       "      <td>0.326733</td>\n",
       "      <td>1.039604</td>\n",
       "      <td>1.399340</td>\n",
       "      <td>0.729373</td>\n",
       "      <td>2.313531</td>\n",
       "      <td>0.544554</td>\n",
       "    </tr>\n",
       "    <tr>\n",
       "      <th>std</th>\n",
       "      <td>9.082101</td>\n",
       "      <td>0.466011</td>\n",
       "      <td>1.032052</td>\n",
       "      <td>17.538143</td>\n",
       "      <td>51.830751</td>\n",
       "      <td>0.356198</td>\n",
       "      <td>0.525860</td>\n",
       "      <td>22.905161</td>\n",
       "      <td>0.469794</td>\n",
       "      <td>1.161075</td>\n",
       "      <td>0.616226</td>\n",
       "      <td>1.022606</td>\n",
       "      <td>0.612277</td>\n",
       "      <td>0.498835</td>\n",
       "    </tr>\n",
       "    <tr>\n",
       "      <th>min</th>\n",
       "      <td>29.000000</td>\n",
       "      <td>0.000000</td>\n",
       "      <td>0.000000</td>\n",
       "      <td>94.000000</td>\n",
       "      <td>126.000000</td>\n",
       "      <td>0.000000</td>\n",
       "      <td>0.000000</td>\n",
       "      <td>71.000000</td>\n",
       "      <td>0.000000</td>\n",
       "      <td>0.000000</td>\n",
       "      <td>0.000000</td>\n",
       "      <td>0.000000</td>\n",
       "      <td>0.000000</td>\n",
       "      <td>0.000000</td>\n",
       "    </tr>\n",
       "    <tr>\n",
       "      <th>25%</th>\n",
       "      <td>47.500000</td>\n",
       "      <td>0.000000</td>\n",
       "      <td>0.000000</td>\n",
       "      <td>120.000000</td>\n",
       "      <td>211.000000</td>\n",
       "      <td>0.000000</td>\n",
       "      <td>0.000000</td>\n",
       "      <td>133.500000</td>\n",
       "      <td>0.000000</td>\n",
       "      <td>0.000000</td>\n",
       "      <td>1.000000</td>\n",
       "      <td>0.000000</td>\n",
       "      <td>2.000000</td>\n",
       "      <td>0.000000</td>\n",
       "    </tr>\n",
       "    <tr>\n",
       "      <th>50%</th>\n",
       "      <td>55.000000</td>\n",
       "      <td>1.000000</td>\n",
       "      <td>1.000000</td>\n",
       "      <td>130.000000</td>\n",
       "      <td>240.000000</td>\n",
       "      <td>0.000000</td>\n",
       "      <td>1.000000</td>\n",
       "      <td>153.000000</td>\n",
       "      <td>0.000000</td>\n",
       "      <td>0.800000</td>\n",
       "      <td>1.000000</td>\n",
       "      <td>0.000000</td>\n",
       "      <td>2.000000</td>\n",
       "      <td>1.000000</td>\n",
       "    </tr>\n",
       "    <tr>\n",
       "      <th>75%</th>\n",
       "      <td>61.000000</td>\n",
       "      <td>1.000000</td>\n",
       "      <td>2.000000</td>\n",
       "      <td>140.000000</td>\n",
       "      <td>274.500000</td>\n",
       "      <td>0.000000</td>\n",
       "      <td>1.000000</td>\n",
       "      <td>166.000000</td>\n",
       "      <td>1.000000</td>\n",
       "      <td>1.600000</td>\n",
       "      <td>2.000000</td>\n",
       "      <td>1.000000</td>\n",
       "      <td>3.000000</td>\n",
       "      <td>1.000000</td>\n",
       "    </tr>\n",
       "    <tr>\n",
       "      <th>max</th>\n",
       "      <td>77.000000</td>\n",
       "      <td>1.000000</td>\n",
       "      <td>3.000000</td>\n",
       "      <td>200.000000</td>\n",
       "      <td>564.000000</td>\n",
       "      <td>1.000000</td>\n",
       "      <td>2.000000</td>\n",
       "      <td>202.000000</td>\n",
       "      <td>1.000000</td>\n",
       "      <td>6.200000</td>\n",
       "      <td>2.000000</td>\n",
       "      <td>4.000000</td>\n",
       "      <td>3.000000</td>\n",
       "      <td>1.000000</td>\n",
       "    </tr>\n",
       "  </tbody>\n",
       "</table>\n",
       "</div>"
      ],
      "text/plain": [
       "              age         sex          cp      trtbps        chol         fbs  \\\n",
       "count  303.000000  303.000000  303.000000  303.000000  303.000000  303.000000   \n",
       "mean    54.366337    0.683168    0.966997  131.623762  246.264026    0.148515   \n",
       "std      9.082101    0.466011    1.032052   17.538143   51.830751    0.356198   \n",
       "min     29.000000    0.000000    0.000000   94.000000  126.000000    0.000000   \n",
       "25%     47.500000    0.000000    0.000000  120.000000  211.000000    0.000000   \n",
       "50%     55.000000    1.000000    1.000000  130.000000  240.000000    0.000000   \n",
       "75%     61.000000    1.000000    2.000000  140.000000  274.500000    0.000000   \n",
       "max     77.000000    1.000000    3.000000  200.000000  564.000000    1.000000   \n",
       "\n",
       "          restecg    thalachh        exng     oldpeak         slp         caa  \\\n",
       "count  303.000000  303.000000  303.000000  303.000000  303.000000  303.000000   \n",
       "mean     0.528053  149.646865    0.326733    1.039604    1.399340    0.729373   \n",
       "std      0.525860   22.905161    0.469794    1.161075    0.616226    1.022606   \n",
       "min      0.000000   71.000000    0.000000    0.000000    0.000000    0.000000   \n",
       "25%      0.000000  133.500000    0.000000    0.000000    1.000000    0.000000   \n",
       "50%      1.000000  153.000000    0.000000    0.800000    1.000000    0.000000   \n",
       "75%      1.000000  166.000000    1.000000    1.600000    2.000000    1.000000   \n",
       "max      2.000000  202.000000    1.000000    6.200000    2.000000    4.000000   \n",
       "\n",
       "            thall      output  \n",
       "count  303.000000  303.000000  \n",
       "mean     2.313531    0.544554  \n",
       "std      0.612277    0.498835  \n",
       "min      0.000000    0.000000  \n",
       "25%      2.000000    0.000000  \n",
       "50%      2.000000    1.000000  \n",
       "75%      3.000000    1.000000  \n",
       "max      3.000000    1.000000  "
      ]
     },
     "execution_count": 4,
     "metadata": {},
     "output_type": "execute_result"
    }
   ],
   "source": [
    "df.describe()"
   ]
  },
  {
   "cell_type": "code",
   "execution_count": 5,
   "id": "5e4256d1",
   "metadata": {
    "execution": {
     "iopub.execute_input": "2024-08-04T12:08:41.934818Z",
     "iopub.status.busy": "2024-08-04T12:08:41.934397Z",
     "iopub.status.idle": "2024-08-04T12:08:41.939790Z",
     "shell.execute_reply": "2024-08-04T12:08:41.938666Z"
    },
    "papermill": {
     "duration": 0.021718,
     "end_time": "2024-08-04T12:08:41.942478",
     "exception": false,
     "start_time": "2024-08-04T12:08:41.920760",
     "status": "completed"
    },
    "tags": []
   },
   "outputs": [],
   "source": [
    "c=df.columns"
   ]
  },
  {
   "cell_type": "code",
   "execution_count": 6,
   "id": "136d6dc6",
   "metadata": {
    "execution": {
     "iopub.execute_input": "2024-08-04T12:08:41.968813Z",
     "iopub.status.busy": "2024-08-04T12:08:41.968421Z",
     "iopub.status.idle": "2024-08-04T12:08:41.980752Z",
     "shell.execute_reply": "2024-08-04T12:08:41.979631Z"
    },
    "papermill": {
     "duration": 0.028555,
     "end_time": "2024-08-04T12:08:41.983528",
     "exception": false,
     "start_time": "2024-08-04T12:08:41.954973",
     "status": "completed"
    },
    "tags": []
   },
   "outputs": [
    {
     "name": "stdout",
     "output_type": "stream",
     "text": [
      "age\n",
      "[63 37 41 56 57 44 52 54 48 49 64 58 50 66 43 69 59 42 61 40 71 51 65 53\n",
      " 46 45 39 47 62 34 35 29 55 60 67 68 74 76 70 38 77]\n",
      "--------------------\n",
      "sex\n",
      "[1 0]\n",
      "--------------------\n",
      "cp\n",
      "[3 2 1 0]\n",
      "--------------------\n",
      "trtbps\n",
      "[145 130 120 140 172 150 110 135 160 105 125 142 155 104 138 128 108 134\n",
      " 122 115 118 100 124  94 112 102 152 101 132 148 178 129 180 136 126 106\n",
      " 156 170 146 117 200 165 174 192 144 123 154 114 164]\n",
      "--------------------\n",
      "chol\n",
      "[233 250 204 236 354 192 294 263 199 168 239 275 266 211 283 219 340 226\n",
      " 247 234 243 302 212 175 417 197 198 177 273 213 304 232 269 360 308 245\n",
      " 208 264 321 325 235 257 216 256 231 141 252 201 222 260 182 303 265 309\n",
      " 186 203 183 220 209 258 227 261 221 205 240 318 298 564 277 214 248 255\n",
      " 207 223 288 160 394 315 246 244 270 195 196 254 126 313 262 215 193 271\n",
      " 268 267 210 295 306 178 242 180 228 149 278 253 342 157 286 229 284 224\n",
      " 206 167 230 335 276 353 225 330 290 172 305 188 282 185 326 274 164 307\n",
      " 249 341 407 217 174 281 289 322 299 300 293 184 409 259 200 327 237 218\n",
      " 319 166 311 169 187 176 241 131]\n",
      "--------------------\n",
      "fbs\n",
      "[1 0]\n",
      "--------------------\n",
      "restecg\n",
      "[0 1 2]\n",
      "--------------------\n",
      "thalachh\n",
      "[150 187 172 178 163 148 153 173 162 174 160 139 171 144 158 114 151 161\n",
      " 179 137 157 123 152 168 140 188 125 170 165 142 180 143 182 156 115 149\n",
      " 146 175 186 185 159 130 190 132 147 154 202 166 164 184 122 169 138 111\n",
      " 145 194 131 133 155 167 192 121  96 126 105 181 116 108 129 120 112 128\n",
      " 109 113  99 177 141 136  97 127 103 124  88 195 106  95 117  71 118 134\n",
      "  90]\n",
      "--------------------\n",
      "exng\n",
      "[0 1]\n",
      "--------------------\n",
      "oldpeak\n",
      "[2.3 3.5 1.4 0.8 0.6 0.4 1.3 0.  0.5 1.6 1.2 0.2 1.8 1.  2.6 1.5 3.  2.4\n",
      " 0.1 1.9 4.2 1.1 2.  0.7 0.3 0.9 3.6 3.1 3.2 2.5 2.2 2.8 3.4 6.2 4.  5.6\n",
      " 2.9 2.1 3.8 4.4]\n",
      "--------------------\n",
      "slp\n",
      "[0 2 1]\n",
      "--------------------\n",
      "caa\n",
      "[0 2 1 3 4]\n",
      "--------------------\n",
      "thall\n",
      "[1 2 3 0]\n",
      "--------------------\n",
      "output\n",
      "[1 0]\n",
      "--------------------\n"
     ]
    }
   ],
   "source": [
    "for i in c:\n",
    "    print(i)\n",
    "    print(df[i].unique())\n",
    "    print('-'*20)"
   ]
  },
  {
   "cell_type": "code",
   "execution_count": 7,
   "id": "e8d46539",
   "metadata": {
    "execution": {
     "iopub.execute_input": "2024-08-04T12:08:42.011004Z",
     "iopub.status.busy": "2024-08-04T12:08:42.010588Z",
     "iopub.status.idle": "2024-08-04T12:08:42.373312Z",
     "shell.execute_reply": "2024-08-04T12:08:42.371958Z"
    },
    "papermill": {
     "duration": 0.379125,
     "end_time": "2024-08-04T12:08:42.375992",
     "exception": false,
     "start_time": "2024-08-04T12:08:41.996867",
     "status": "completed"
    },
    "tags": []
   },
   "outputs": [
    {
     "data": {
      "text/plain": [
       "<Axes: xlabel='sex', ylabel='count'>"
      ]
     },
     "execution_count": 7,
     "metadata": {},
     "output_type": "execute_result"
    },
    {
     "data": {
      "image/png": "[encoded data removed]",
      "text/plain": [
       "<Figure size 640x480 with 1 Axes>"
      ]
     },
     "metadata": {},
     "output_type": "display_data"
    }
   ],
   "source": [
    "sns.countplot(df,x='sex',palette='Set1')"
   ]
  },
  {
   "cell_type": "code",
   "execution_count": 8,
   "id": "24b37bd8",
   "metadata": {
    "execution": {
     "iopub.execute_input": "2024-08-04T12:08:42.404171Z",
     "iopub.status.busy": "2024-08-04T12:08:42.402987Z",
     "iopub.status.idle": "2024-08-04T12:08:42.681037Z",
     "shell.execute_reply": "2024-08-04T12:08:42.679776Z"
    },
    "papermill": {
     "duration": 0.294725,
     "end_time": "2024-08-04T12:08:42.683574",
     "exception": false,
     "start_time": "2024-08-04T12:08:42.388849",
     "status": "completed"
    },
    "tags": []
   },
   "outputs": [
    {
     "data": {
      "text/plain": [
       "<Axes: xlabel='output', ylabel='count'>"
      ]
     },
     "execution_count": 8,
     "metadata": {},
     "output_type": "execute_result"
    },
    {
     "data": {
      "image/png": "[encoded data removed]",
      "text/plain": [
       "<Figure size 640x480 with 1 Axes>"
      ]
     },
     "metadata": {},
     "output_type": "display_data"
    }
   ],
   "source": [
    "sns.countplot(df,x='output',hue='sex',palette='Set2')"
   ]
  },
  {
   "cell_type": "code",
   "execution_count": 9,
   "id": "bbe71fd6",
   "metadata": {
    "execution": {
     "iopub.execute_input": "2024-08-04T12:08:42.712544Z",
     "iopub.status.busy": "2024-08-04T12:08:42.712114Z",
     "iopub.status.idle": "2024-08-04T12:08:43.014221Z",
     "shell.execute_reply": "2024-08-04T12:08:43.012947Z"
    },
    "papermill": {
     "duration": 0.320056,
     "end_time": "2024-08-04T12:08:43.017121",
     "exception": false,
     "start_time": "2024-08-04T12:08:42.697065",
     "status": "completed"
    },
    "tags": []
   },
   "outputs": [
    {
     "data": {
      "text/plain": [
       "<Axes: xlabel='cp', ylabel='count'>"
      ]
     },
     "execution_count": 9,
     "metadata": {},
     "output_type": "execute_result"
    },
    {
     "data": {
      "image/png": "[encoded data removed]",
      "text/plain": [
       "<Figure size 640x480 with 1 Axes>"
      ]
     },
     "metadata": {},
     "output_type": "display_data"
    }
   ],
   "source": [
    "sns.countplot(df,x='cp',hue='output',palette='Set3')"
   ]
  },
  {
   "cell_type": "code",
   "execution_count": 10,
   "id": "0c1cda4f",
   "metadata": {
    "execution": {
     "iopub.execute_input": "2024-08-04T12:08:43.046961Z",
     "iopub.status.busy": "2024-08-04T12:08:43.046580Z",
     "iopub.status.idle": "2024-08-04T12:08:43.339005Z",
     "shell.execute_reply": "2024-08-04T12:08:43.337706Z"
    },
    "papermill": {
     "duration": 0.310444,
     "end_time": "2024-08-04T12:08:43.341679",
     "exception": false,
     "start_time": "2024-08-04T12:08:43.031235",
     "status": "completed"
    },
    "tags": []
   },
   "outputs": [
    {
     "data": {
      "text/plain": [
       "<Axes: xlabel='exng', ylabel='count'>"
      ]
     },
     "execution_count": 10,
     "metadata": {},
     "output_type": "execute_result"
    },
    {
     "data": {
      "image/png": "[encoded data removed]",
      "text/plain": [
       "<Figure size 640x480 with 1 Axes>"
      ]
     },
     "metadata": {},
     "output_type": "display_data"
    }
   ],
   "source": [
    "sns.countplot(df,x='exng',hue='output',palette='blend:#7AB,#EDA')"
   ]
  },
  {
   "cell_type": "code",
   "execution_count": 11,
   "id": "edec22db",
   "metadata": {
    "execution": {
     "iopub.execute_input": "2024-08-04T12:08:43.372281Z",
     "iopub.status.busy": "2024-08-04T12:08:43.371855Z",
     "iopub.status.idle": "2024-08-04T12:08:43.605469Z",
     "shell.execute_reply": "2024-08-04T12:08:43.604369Z"
    },
    "papermill": {
     "duration": 0.251922,
     "end_time": "2024-08-04T12:08:43.607997",
     "exception": false,
     "start_time": "2024-08-04T12:08:43.356075",
     "status": "completed"
    },
    "tags": []
   },
   "outputs": [
    {
     "data": {
      "text/plain": [
       "<Axes: xlabel='restecg', ylabel='count'>"
      ]
     },
     "execution_count": 11,
     "metadata": {},
     "output_type": "execute_result"
    },
    {
     "data": {
      "image/png": "[encoded data removed]",
      "text/plain": [
       "<Figure size 640x480 with 1 Axes>"
      ]
     },
     "metadata": {},
     "output_type": "display_data"
    }
   ],
   "source": [
    "sns.countplot(df,x='restecg',hue='exng',palette='blend:#7AB,#EDA')"
   ]
  },
  {
   "cell_type": "code",
   "execution_count": 12,
   "id": "049e9d03",
   "metadata": {
    "execution": {
     "iopub.execute_input": "2024-08-04T12:08:43.639452Z",
     "iopub.status.busy": "2024-08-04T12:08:43.639004Z",
     "iopub.status.idle": "2024-08-04T12:08:43.794426Z",
     "shell.execute_reply": "2024-08-04T12:08:43.793163Z"
    },
    "papermill": {
     "duration": 0.175911,
     "end_time": "2024-08-04T12:08:43.798684",
     "exception": false,
     "start_time": "2024-08-04T12:08:43.622773",
     "status": "completed"
    },
    "tags": []
   },
   "outputs": [
    {
     "data": {
      "text/plain": [
       "<Axes: ylabel='age'>"
      ]
     },
     "execution_count": 12,
     "metadata": {},
     "output_type": "execute_result"
    },
    {
     "data": {
      "image/png": "[encoded data removed]",
      "text/plain": [
       "<Figure size 640x480 with 1 Axes>"
      ]
     },
     "metadata": {},
     "output_type": "display_data"
    }
   ],
   "source": [
    "sns.boxplot(df,y='age')"
   ]
  },
  {
   "cell_type": "code",
   "execution_count": 13,
   "id": "57de1a46",
   "metadata": {
    "execution": {
     "iopub.execute_input": "2024-08-04T12:08:43.835907Z",
     "iopub.status.busy": "2024-08-04T12:08:43.835475Z",
     "iopub.status.idle": "2024-08-04T12:08:44.006275Z",
     "shell.execute_reply": "2024-08-04T12:08:44.004832Z"
    },
    "papermill": {
     "duration": 0.190555,
     "end_time": "2024-08-04T12:08:44.009148",
     "exception": false,
     "start_time": "2024-08-04T12:08:43.818593",
     "status": "completed"
    },
    "tags": []
   },
   "outputs": [
    {
     "data": {
      "text/plain": [
       "<Axes: ylabel='cp'>"
      ]
     },
     "execution_count": 13,
     "metadata": {},
     "output_type": "execute_result"
    },
    {
     "data": {
      "image/png": "[encoded data removed]",
      "text/plain": [
       "<Figure size 640x480 with 1 Axes>"
      ]
     },
     "metadata": {},
     "output_type": "display_data"
    }
   ],
   "source": [
    "sns.boxplot(df,y='cp')"
   ]
  },
  {
   "cell_type": "code",
   "execution_count": 14,
   "id": "3a0eb1bf",
   "metadata": {
    "execution": {
     "iopub.execute_input": "2024-08-04T12:08:44.042548Z",
     "iopub.status.busy": "2024-08-04T12:08:44.042145Z",
     "iopub.status.idle": "2024-08-04T12:08:44.212831Z",
     "shell.execute_reply": "2024-08-04T12:08:44.211363Z"
    },
    "papermill": {
     "duration": 0.190771,
     "end_time": "2024-08-04T12:08:44.215705",
     "exception": false,
     "start_time": "2024-08-04T12:08:44.024934",
     "status": "completed"
    },
    "tags": []
   },
   "outputs": [
    {
     "data": {
      "text/plain": [
       "<Axes: ylabel='trtbps'>"
      ]
     },
     "execution_count": 14,
     "metadata": {},
     "output_type": "execute_result"
    },
    {
     "data": {
      "image/png": "[encoded data removed]",
      "text/plain": [
       "<Figure size 640x480 with 1 Axes>"
      ]
     },
     "metadata": {},
     "output_type": "display_data"
    }
   ],
   "source": [
    "sns.boxplot(df,y='trtbps')"
   ]
  },
  {
   "cell_type": "code",
   "execution_count": 15,
   "id": "8797b180",
   "metadata": {
    "execution": {
     "iopub.execute_input": "2024-08-04T12:08:44.250279Z",
     "iopub.status.busy": "2024-08-04T12:08:44.249841Z",
     "iopub.status.idle": "2024-08-04T12:08:44.256402Z",
     "shell.execute_reply": "2024-08-04T12:08:44.255337Z"
    },
    "papermill": {
     "duration": 0.026463,
     "end_time": "2024-08-04T12:08:44.258765",
     "exception": false,
     "start_time": "2024-08-04T12:08:44.232302",
     "status": "completed"
    },
    "tags": []
   },
   "outputs": [],
   "source": [
    "df['trtbps'].mean()\n",
    "df=df[df['trtbps']<170]"
   ]
  },
  {
   "cell_type": "code",
   "execution_count": 16,
   "id": "33885bdc",
   "metadata": {
    "execution": {
     "iopub.execute_input": "2024-08-04T12:08:44.292908Z",
     "iopub.status.busy": "2024-08-04T12:08:44.292494Z",
     "iopub.status.idle": "2024-08-04T12:08:44.523449Z",
     "shell.execute_reply": "2024-08-04T12:08:44.522320Z"
    },
    "papermill": {
     "duration": 0.251125,
     "end_time": "2024-08-04T12:08:44.526010",
     "exception": false,
     "start_time": "2024-08-04T12:08:44.274885",
     "status": "completed"
    },
    "tags": []
   },
   "outputs": [
    {
     "data": {
      "text/plain": [
       "<Axes: ylabel='trtbps'>"
      ]
     },
     "execution_count": 16,
     "metadata": {},
     "output_type": "execute_result"
    },
    {
     "data": {
      "image/png": "[encoded data removed]",
      "text/plain": [
       "<Figure size 640x480 with 1 Axes>"
      ]
     },
     "metadata": {},
     "output_type": "display_data"
    }
   ],
   "source": [
    "sns.boxplot(df,y='trtbps')"
   ]
  },
  {
   "cell_type": "code",
   "execution_count": 17,
   "id": "fc748446",
   "metadata": {
    "execution": {
     "iopub.execute_input": "2024-08-04T12:08:44.560847Z",
     "iopub.status.busy": "2024-08-04T12:08:44.560425Z",
     "iopub.status.idle": "2024-08-04T12:08:44.732316Z",
     "shell.execute_reply": "2024-08-04T12:08:44.731114Z"
    },
    "papermill": {
     "duration": 0.192358,
     "end_time": "2024-08-04T12:08:44.734838",
     "exception": false,
     "start_time": "2024-08-04T12:08:44.542480",
     "status": "completed"
    },
    "tags": []
   },
   "outputs": [
    {
     "data": {
      "text/plain": [
       "<Axes: ylabel='thalachh'>"
      ]
     },
     "execution_count": 17,
     "metadata": {},
     "output_type": "execute_result"
    },
    {
     "data": {
      "image/png": "[encoded data removed]",
      "text/plain": [
       "<Figure size 640x480 with 1 Axes>"
      ]
     },
     "metadata": {},
     "output_type": "display_data"
    }
   ],
   "source": [
    "sns.boxplot(df,y='thalachh')"
   ]
  },
  {
   "cell_type": "code",
   "execution_count": 18,
   "id": "3a3ae56c",
   "metadata": {
    "execution": {
     "iopub.execute_input": "2024-08-04T12:08:44.771294Z",
     "iopub.status.busy": "2024-08-04T12:08:44.770886Z",
     "iopub.status.idle": "2024-08-04T12:08:45.879165Z",
     "shell.execute_reply": "2024-08-04T12:08:45.877936Z"
    },
    "papermill": {
     "duration": 1.131562,
     "end_time": "2024-08-04T12:08:45.883345",
     "exception": false,
     "start_time": "2024-08-04T12:08:44.751783",
     "status": "completed"
    },
    "tags": []
   },
   "outputs": [
    {
     "data": {
      "text/plain": [
       "<Axes: >"
      ]
     },
     "execution_count": 18,
     "metadata": {},
     "output_type": "execute_result"
    },
    {
     "data": {
      "image/png": "[encoded data removed]",
      "text/plain": [
       "<Figure size 640x480 with 2 Axes>"
      ]
     },
     "metadata": {},
     "output_type": "display_data"
    }
   ],
   "source": [
    "sns.heatmap(df.corr(numeric_only=True),annot=True)"
   ]
  },
  {
   "cell_type": "code",
   "execution_count": 19,
   "id": "aab46006",
   "metadata": {
    "execution": {
     "iopub.execute_input": "2024-08-04T12:08:45.925189Z",
     "iopub.status.busy": "2024-08-04T12:08:45.924794Z",
     "iopub.status.idle": "2024-08-04T12:08:45.934312Z",
     "shell.execute_reply": "2024-08-04T12:08:45.933256Z"
    },
    "papermill": {
     "duration": 0.033273,
     "end_time": "2024-08-04T12:08:45.936746",
     "exception": false,
     "start_time": "2024-08-04T12:08:45.903473",
     "status": "completed"
    },
    "tags": []
   },
   "outputs": [
    {
     "data": {
      "text/plain": [
       "age         0\n",
       "sex         0\n",
       "cp          0\n",
       "trtbps      0\n",
       "chol        0\n",
       "fbs         0\n",
       "restecg     0\n",
       "thalachh    0\n",
       "exng        0\n",
       "oldpeak     0\n",
       "slp         0\n",
       "caa         0\n",
       "thall       0\n",
       "output      0\n",
       "dtype: int64"
      ]
     },
     "execution_count": 19,
     "metadata": {},
     "output_type": "execute_result"
    }
   ],
   "source": [
    "df.isnull().sum()"
   ]
  },
  {
   "cell_type": "code",
   "execution_count": 20,
   "id": "3a408b6e",
   "metadata": {
    "execution": {
     "iopub.execute_input": "2024-08-04T12:08:45.987798Z",
     "iopub.status.busy": "2024-08-04T12:08:45.987315Z",
     "iopub.status.idle": "2024-08-04T12:08:45.994723Z",
     "shell.execute_reply": "2024-08-04T12:08:45.993529Z"
    },
    "papermill": {
     "duration": 0.033438,
     "end_time": "2024-08-04T12:08:45.997549",
     "exception": false,
     "start_time": "2024-08-04T12:08:45.964111",
     "status": "completed"
    },
    "tags": []
   },
   "outputs": [],
   "source": [
    "numeric=df.select_dtypes(include=['float64','int64'])"
   ]
  },
  {
   "cell_type": "code",
   "execution_count": 21,
   "id": "2922bc7a",
   "metadata": {
    "execution": {
     "iopub.execute_input": "2024-08-04T12:08:46.047301Z",
     "iopub.status.busy": "2024-08-04T12:08:46.046842Z",
     "iopub.status.idle": "2024-08-04T12:08:46.538084Z",
     "shell.execute_reply": "2024-08-04T12:08:46.536807Z"
    },
    "papermill": {
     "duration": 0.519412,
     "end_time": "2024-08-04T12:08:46.541990",
     "exception": false,
     "start_time": "2024-08-04T12:08:46.022578",
     "status": "completed"
    },
    "tags": []
   },
   "outputs": [
    {
     "name": "stderr",
     "output_type": "stream",
     "text": [
      "/tmp/ipykernel_18/3058116289.py:4: SettingWithCopyWarning: \n",
      "A value is trying to be set on a copy of a slice from a DataFrame.\n",
      "Try using .loc[row_indexer,col_indexer] = value instead\n",
      "\n",
      "See the caveats in the documentation: https://pandas.pydata.org/pandas-docs/stable/user_guide/indexing.html#returning-a-view-versus-a-copy\n",
      "  df[col]=imputer.fit_transform(df[[col]])\n",
      "/tmp/ipykernel_18/3058116289.py:4: SettingWithCopyWarning: \n",
      "A value is trying to be set on a copy of a slice from a DataFrame.\n",
      "Try using .loc[row_indexer,col_indexer] = value instead\n",
      "\n",
      "See the caveats in the documentation: https://pandas.pydata.org/pandas-docs/stable/user_guide/indexing.html#returning-a-view-versus-a-copy\n",
      "  df[col]=imputer.fit_transform(df[[col]])\n",
      "/tmp/ipykernel_18/3058116289.py:4: SettingWithCopyWarning: \n",
      "A value is trying to be set on a copy of a slice from a DataFrame.\n",
      "Try using .loc[row_indexer,col_indexer] = value instead\n",
      "\n",
      "See the caveats in the documentation: https://pandas.pydata.org/pandas-docs/stable/user_guide/indexing.html#returning-a-view-versus-a-copy\n",
      "  df[col]=imputer.fit_transform(df[[col]])\n",
      "/tmp/ipykernel_18/3058116289.py:4: SettingWithCopyWarning: \n",
      "A value is trying to be set on a copy of a slice from a DataFrame.\n",
      "Try using .loc[row_indexer,col_indexer] = value instead\n",
      "\n",
      "See the caveats in the documentation: https://pandas.pydata.org/pandas-docs/stable/user_guide/indexing.html#returning-a-view-versus-a-copy\n",
      "  df[col]=imputer.fit_transform(df[[col]])\n",
      "/tmp/ipykernel_18/3058116289.py:4: SettingWithCopyWarning: \n",
      "A value is trying to be set on a copy of a slice from a DataFrame.\n",
      "Try using .loc[row_indexer,col_indexer] = value instead\n",
      "\n",
      "See the caveats in the documentation: https://pandas.pydata.org/pandas-docs/stable/user_guide/indexing.html#returning-a-view-versus-a-copy\n",
      "  df[col]=imputer.fit_transform(df[[col]])\n",
      "/tmp/ipykernel_18/3058116289.py:4: SettingWithCopyWarning: \n",
      "A value is trying to be set on a copy of a slice from a DataFrame.\n",
      "Try using .loc[row_indexer,col_indexer] = value instead\n",
      "\n",
      "See the caveats in the documentation: https://pandas.pydata.org/pandas-docs/stable/user_guide/indexing.html#returning-a-view-versus-a-copy\n",
      "  df[col]=imputer.fit_transform(df[[col]])\n",
      "/tmp/ipykernel_18/3058116289.py:4: SettingWithCopyWarning: \n",
      "A value is trying to be set on a copy of a slice from a DataFrame.\n",
      "Try using .loc[row_indexer,col_indexer] = value instead\n",
      "\n",
      "See the caveats in the documentation: https://pandas.pydata.org/pandas-docs/stable/user_guide/indexing.html#returning-a-view-versus-a-copy\n",
      "  df[col]=imputer.fit_transform(df[[col]])\n",
      "/tmp/ipykernel_18/3058116289.py:4: SettingWithCopyWarning: \n",
      "A value is trying to be set on a copy of a slice from a DataFrame.\n",
      "Try using .loc[row_indexer,col_indexer] = value instead\n",
      "\n",
      "See the caveats in the documentation: https://pandas.pydata.org/pandas-docs/stable/user_guide/indexing.html#returning-a-view-versus-a-copy\n",
      "  df[col]=imputer.fit_transform(df[[col]])\n",
      "/tmp/ipykernel_18/3058116289.py:4: SettingWithCopyWarning: \n",
      "A value is trying to be set on a copy of a slice from a DataFrame.\n",
      "Try using .loc[row_indexer,col_indexer] = value instead\n",
      "\n",
      "See the caveats in the documentation: https://pandas.pydata.org/pandas-docs/stable/user_guide/indexing.html#returning-a-view-versus-a-copy\n",
      "  df[col]=imputer.fit_transform(df[[col]])\n",
      "/tmp/ipykernel_18/3058116289.py:4: SettingWithCopyWarning: \n",
      "A value is trying to be set on a copy of a slice from a DataFrame.\n",
      "Try using .loc[row_indexer,col_indexer] = value instead\n",
      "\n",
      "See the caveats in the documentation: https://pandas.pydata.org/pandas-docs/stable/user_guide/indexing.html#returning-a-view-versus-a-copy\n",
      "  df[col]=imputer.fit_transform(df[[col]])\n",
      "/tmp/ipykernel_18/3058116289.py:4: SettingWithCopyWarning: \n",
      "A value is trying to be set on a copy of a slice from a DataFrame.\n",
      "Try using .loc[row_indexer,col_indexer] = value instead\n",
      "\n",
      "See the caveats in the documentation: https://pandas.pydata.org/pandas-docs/stable/user_guide/indexing.html#returning-a-view-versus-a-copy\n",
      "  df[col]=imputer.fit_transform(df[[col]])\n",
      "/tmp/ipykernel_18/3058116289.py:4: SettingWithCopyWarning: \n",
      "A value is trying to be set on a copy of a slice from a DataFrame.\n",
      "Try using .loc[row_indexer,col_indexer] = value instead\n",
      "\n",
      "See the caveats in the documentation: https://pandas.pydata.org/pandas-docs/stable/user_guide/indexing.html#returning-a-view-versus-a-copy\n",
      "  df[col]=imputer.fit_transform(df[[col]])\n",
      "/tmp/ipykernel_18/3058116289.py:4: SettingWithCopyWarning: \n",
      "A value is trying to be set on a copy of a slice from a DataFrame.\n",
      "Try using .loc[row_indexer,col_indexer] = value instead\n",
      "\n",
      "See the caveats in the documentation: https://pandas.pydata.org/pandas-docs/stable/user_guide/indexing.html#returning-a-view-versus-a-copy\n",
      "  df[col]=imputer.fit_transform(df[[col]])\n",
      "/tmp/ipykernel_18/3058116289.py:4: SettingWithCopyWarning: \n",
      "A value is trying to be set on a copy of a slice from a DataFrame.\n",
      "Try using .loc[row_indexer,col_indexer] = value instead\n",
      "\n",
      "See the caveats in the documentation: https://pandas.pydata.org/pandas-docs/stable/user_guide/indexing.html#returning-a-view-versus-a-copy\n",
      "  df[col]=imputer.fit_transform(df[[col]])\n"
     ]
    }
   ],
   "source": [
    "from sklearn.impute import KNNImputer\n",
    "imputer = KNNImputer()\n",
    "for col in numeric:\n",
    "    df[col]=imputer.fit_transform(df[[col]])"
   ]
  },
  {
   "cell_type": "code",
   "execution_count": 22,
   "id": "e85c11b1",
   "metadata": {
    "execution": {
     "iopub.execute_input": "2024-08-04T12:08:46.585066Z",
     "iopub.status.busy": "2024-08-04T12:08:46.584659Z",
     "iopub.status.idle": "2024-08-04T12:08:46.594776Z",
     "shell.execute_reply": "2024-08-04T12:08:46.593595Z"
    },
    "papermill": {
     "duration": 0.034381,
     "end_time": "2024-08-04T12:08:46.597042",
     "exception": false,
     "start_time": "2024-08-04T12:08:46.562661",
     "status": "completed"
    },
    "tags": []
   },
   "outputs": [
    {
     "data": {
      "text/plain": [
       "age         0\n",
       "sex         0\n",
       "cp          0\n",
       "trtbps      0\n",
       "chol        0\n",
       "fbs         0\n",
       "restecg     0\n",
       "thalachh    0\n",
       "exng        0\n",
       "oldpeak     0\n",
       "slp         0\n",
       "caa         0\n",
       "thall       0\n",
       "output      0\n",
       "dtype: int64"
      ]
     },
     "execution_count": 22,
     "metadata": {},
     "output_type": "execute_result"
    }
   ],
   "source": [
    "df.isnull().sum()"
   ]
  },
  {
   "cell_type": "code",
   "execution_count": 23,
   "id": "c106e7ee",
   "metadata": {
    "execution": {
     "iopub.execute_input": "2024-08-04T12:08:46.641236Z",
     "iopub.status.busy": "2024-08-04T12:08:46.640825Z",
     "iopub.status.idle": "2024-08-04T12:08:46.681277Z",
     "shell.execute_reply": "2024-08-04T12:08:46.679834Z"
    },
    "papermill": {
     "duration": 0.06476,
     "end_time": "2024-08-04T12:08:46.684100",
     "exception": false,
     "start_time": "2024-08-04T12:08:46.619340",
     "status": "completed"
    },
    "tags": []
   },
   "outputs": [
    {
     "data": {
      "text/html": [
       "<div>\n",
       "<style scoped>\n",
       "    .dataframe tbody tr th:only-of-type {\n",
       "        vertical-align: middle;\n",
       "    }\n",
       "\n",
       "    .dataframe tbody tr th {\n",
       "        vertical-align: top;\n",
       "    }\n",
       "\n",
       "    .dataframe thead th {\n",
       "        text-align: right;\n",
       "    }\n",
       "</style>\n",
       "<table border=\"1\" class=\"dataframe\">\n",
       "  <thead>\n",
       "    <tr style=\"text-align: right;\">\n",
       "      <th></th>\n",
       "      <th>age</th>\n",
       "      <th>sex</th>\n",
       "      <th>cp</th>\n",
       "      <th>trtbps</th>\n",
       "      <th>chol</th>\n",
       "      <th>fbs</th>\n",
       "      <th>restecg</th>\n",
       "      <th>thalachh</th>\n",
       "      <th>exng</th>\n",
       "      <th>oldpeak</th>\n",
       "      <th>slp</th>\n",
       "      <th>caa</th>\n",
       "      <th>thall</th>\n",
       "      <th>output_1.0</th>\n",
       "    </tr>\n",
       "  </thead>\n",
       "  <tbody>\n",
       "    <tr>\n",
       "      <th>0</th>\n",
       "      <td>63.0</td>\n",
       "      <td>1.0</td>\n",
       "      <td>3.0</td>\n",
       "      <td>145.0</td>\n",
       "      <td>233.0</td>\n",
       "      <td>1.0</td>\n",
       "      <td>0.0</td>\n",
       "      <td>150.0</td>\n",
       "      <td>0.0</td>\n",
       "      <td>2.3</td>\n",
       "      <td>0.0</td>\n",
       "      <td>0.0</td>\n",
       "      <td>1.0</td>\n",
       "      <td>1</td>\n",
       "    </tr>\n",
       "    <tr>\n",
       "      <th>1</th>\n",
       "      <td>37.0</td>\n",
       "      <td>1.0</td>\n",
       "      <td>2.0</td>\n",
       "      <td>130.0</td>\n",
       "      <td>250.0</td>\n",
       "      <td>0.0</td>\n",
       "      <td>1.0</td>\n",
       "      <td>187.0</td>\n",
       "      <td>0.0</td>\n",
       "      <td>3.5</td>\n",
       "      <td>0.0</td>\n",
       "      <td>0.0</td>\n",
       "      <td>2.0</td>\n",
       "      <td>1</td>\n",
       "    </tr>\n",
       "    <tr>\n",
       "      <th>2</th>\n",
       "      <td>41.0</td>\n",
       "      <td>0.0</td>\n",
       "      <td>1.0</td>\n",
       "      <td>130.0</td>\n",
       "      <td>204.0</td>\n",
       "      <td>0.0</td>\n",
       "      <td>0.0</td>\n",
       "      <td>172.0</td>\n",
       "      <td>0.0</td>\n",
       "      <td>1.4</td>\n",
       "      <td>2.0</td>\n",
       "      <td>0.0</td>\n",
       "      <td>2.0</td>\n",
       "      <td>1</td>\n",
       "    </tr>\n",
       "    <tr>\n",
       "      <th>3</th>\n",
       "      <td>56.0</td>\n",
       "      <td>1.0</td>\n",
       "      <td>1.0</td>\n",
       "      <td>120.0</td>\n",
       "      <td>236.0</td>\n",
       "      <td>0.0</td>\n",
       "      <td>1.0</td>\n",
       "      <td>178.0</td>\n",
       "      <td>0.0</td>\n",
       "      <td>0.8</td>\n",
       "      <td>2.0</td>\n",
       "      <td>0.0</td>\n",
       "      <td>2.0</td>\n",
       "      <td>1</td>\n",
       "    </tr>\n",
       "    <tr>\n",
       "      <th>4</th>\n",
       "      <td>57.0</td>\n",
       "      <td>0.0</td>\n",
       "      <td>0.0</td>\n",
       "      <td>120.0</td>\n",
       "      <td>354.0</td>\n",
       "      <td>0.0</td>\n",
       "      <td>1.0</td>\n",
       "      <td>163.0</td>\n",
       "      <td>1.0</td>\n",
       "      <td>0.6</td>\n",
       "      <td>2.0</td>\n",
       "      <td>0.0</td>\n",
       "      <td>2.0</td>\n",
       "      <td>1</td>\n",
       "    </tr>\n",
       "    <tr>\n",
       "      <th>...</th>\n",
       "      <td>...</td>\n",
       "      <td>...</td>\n",
       "      <td>...</td>\n",
       "      <td>...</td>\n",
       "      <td>...</td>\n",
       "      <td>...</td>\n",
       "      <td>...</td>\n",
       "      <td>...</td>\n",
       "      <td>...</td>\n",
       "      <td>...</td>\n",
       "      <td>...</td>\n",
       "      <td>...</td>\n",
       "      <td>...</td>\n",
       "      <td>...</td>\n",
       "    </tr>\n",
       "    <tr>\n",
       "      <th>298</th>\n",
       "      <td>57.0</td>\n",
       "      <td>0.0</td>\n",
       "      <td>0.0</td>\n",
       "      <td>140.0</td>\n",
       "      <td>241.0</td>\n",
       "      <td>0.0</td>\n",
       "      <td>1.0</td>\n",
       "      <td>123.0</td>\n",
       "      <td>1.0</td>\n",
       "      <td>0.2</td>\n",
       "      <td>1.0</td>\n",
       "      <td>0.0</td>\n",
       "      <td>3.0</td>\n",
       "      <td>0</td>\n",
       "    </tr>\n",
       "    <tr>\n",
       "      <th>299</th>\n",
       "      <td>45.0</td>\n",
       "      <td>1.0</td>\n",
       "      <td>3.0</td>\n",
       "      <td>110.0</td>\n",
       "      <td>264.0</td>\n",
       "      <td>0.0</td>\n",
       "      <td>1.0</td>\n",
       "      <td>132.0</td>\n",
       "      <td>0.0</td>\n",
       "      <td>1.2</td>\n",
       "      <td>1.0</td>\n",
       "      <td>0.0</td>\n",
       "      <td>3.0</td>\n",
       "      <td>0</td>\n",
       "    </tr>\n",
       "    <tr>\n",
       "      <th>300</th>\n",
       "      <td>68.0</td>\n",
       "      <td>1.0</td>\n",
       "      <td>0.0</td>\n",
       "      <td>144.0</td>\n",
       "      <td>193.0</td>\n",
       "      <td>1.0</td>\n",
       "      <td>1.0</td>\n",
       "      <td>141.0</td>\n",
       "      <td>0.0</td>\n",
       "      <td>3.4</td>\n",
       "      <td>1.0</td>\n",
       "      <td>2.0</td>\n",
       "      <td>3.0</td>\n",
       "      <td>0</td>\n",
       "    </tr>\n",
       "    <tr>\n",
       "      <th>301</th>\n",
       "      <td>57.0</td>\n",
       "      <td>1.0</td>\n",
       "      <td>0.0</td>\n",
       "      <td>130.0</td>\n",
       "      <td>131.0</td>\n",
       "      <td>0.0</td>\n",
       "      <td>1.0</td>\n",
       "      <td>115.0</td>\n",
       "      <td>1.0</td>\n",
       "      <td>1.2</td>\n",
       "      <td>1.0</td>\n",
       "      <td>1.0</td>\n",
       "      <td>3.0</td>\n",
       "      <td>0</td>\n",
       "    </tr>\n",
       "    <tr>\n",
       "      <th>302</th>\n",
       "      <td>57.0</td>\n",
       "      <td>0.0</td>\n",
       "      <td>1.0</td>\n",
       "      <td>130.0</td>\n",
       "      <td>236.0</td>\n",
       "      <td>0.0</td>\n",
       "      <td>0.0</td>\n",
       "      <td>174.0</td>\n",
       "      <td>0.0</td>\n",
       "      <td>0.0</td>\n",
       "      <td>1.0</td>\n",
       "      <td>1.0</td>\n",
       "      <td>2.0</td>\n",
       "      <td>0</td>\n",
       "    </tr>\n",
       "  </tbody>\n",
       "</table>\n",
       "<p>290 rows × 14 columns</p>\n",
       "</div>"
      ],
      "text/plain": [
       "      age  sex   cp  trtbps   chol  fbs  restecg  thalachh  exng  oldpeak  \\\n",
       "0    63.0  1.0  3.0   145.0  233.0  1.0      0.0     150.0   0.0      2.3   \n",
       "1    37.0  1.0  2.0   130.0  250.0  0.0      1.0     187.0   0.0      3.5   \n",
       "2    41.0  0.0  1.0   130.0  204.0  0.0      0.0     172.0   0.0      1.4   \n",
       "3    56.0  1.0  1.0   120.0  236.0  0.0      1.0     178.0   0.0      0.8   \n",
       "4    57.0  0.0  0.0   120.0  354.0  0.0      1.0     163.0   1.0      0.6   \n",
       "..    ...  ...  ...     ...    ...  ...      ...       ...   ...      ...   \n",
       "298  57.0  0.0  0.0   140.0  241.0  0.0      1.0     123.0   1.0      0.2   \n",
       "299  45.0  1.0  3.0   110.0  264.0  0.0      1.0     132.0   0.0      1.2   \n",
       "300  68.0  1.0  0.0   144.0  193.0  1.0      1.0     141.0   0.0      3.4   \n",
       "301  57.0  1.0  0.0   130.0  131.0  0.0      1.0     115.0   1.0      1.2   \n",
       "302  57.0  0.0  1.0   130.0  236.0  0.0      0.0     174.0   0.0      0.0   \n",
       "\n",
       "     slp  caa  thall  output_1.0  \n",
       "0    0.0  0.0    1.0           1  \n",
       "1    0.0  0.0    2.0           1  \n",
       "2    2.0  0.0    2.0           1  \n",
       "3    2.0  0.0    2.0           1  \n",
       "4    2.0  0.0    2.0           1  \n",
       "..   ...  ...    ...         ...  \n",
       "298  1.0  0.0    3.0           0  \n",
       "299  1.0  0.0    3.0           0  \n",
       "300  1.0  2.0    3.0           0  \n",
       "301  1.0  1.0    3.0           0  \n",
       "302  1.0  1.0    2.0           0  \n",
       "\n",
       "[290 rows x 14 columns]"
      ]
     },
     "execution_count": 23,
     "metadata": {},
     "output_type": "execute_result"
    }
   ],
   "source": [
    "df=pd.get_dummies(df,columns=['output'],dtype='int',drop_first=True)\n",
    "df"
   ]
  },
  {
   "cell_type": "code",
   "execution_count": 24,
   "id": "3ed3bcdf",
   "metadata": {
    "execution": {
     "iopub.execute_input": "2024-08-04T12:08:46.727679Z",
     "iopub.status.busy": "2024-08-04T12:08:46.727156Z",
     "iopub.status.idle": "2024-08-04T12:08:46.763735Z",
     "shell.execute_reply": "2024-08-04T12:08:46.762545Z"
    },
    "papermill": {
     "duration": 0.061791,
     "end_time": "2024-08-04T12:08:46.766589",
     "exception": false,
     "start_time": "2024-08-04T12:08:46.704798",
     "status": "completed"
    },
    "tags": []
   },
   "outputs": [
    {
     "data": {
      "text/html": [
       "<div>\n",
       "<style scoped>\n",
       "    .dataframe tbody tr th:only-of-type {\n",
       "        vertical-align: middle;\n",
       "    }\n",
       "\n",
       "    .dataframe tbody tr th {\n",
       "        vertical-align: top;\n",
       "    }\n",
       "\n",
       "    .dataframe thead th {\n",
       "        text-align: right;\n",
       "    }\n",
       "</style>\n",
       "<table border=\"1\" class=\"dataframe\">\n",
       "  <thead>\n",
       "    <tr style=\"text-align: right;\">\n",
       "      <th></th>\n",
       "      <th>age</th>\n",
       "      <th>sex</th>\n",
       "      <th>cp</th>\n",
       "      <th>trtbps</th>\n",
       "      <th>chol</th>\n",
       "      <th>fbs</th>\n",
       "      <th>restecg</th>\n",
       "      <th>thalachh</th>\n",
       "      <th>exng</th>\n",
       "      <th>oldpeak</th>\n",
       "      <th>slp</th>\n",
       "      <th>caa</th>\n",
       "      <th>thall</th>\n",
       "    </tr>\n",
       "  </thead>\n",
       "  <tbody>\n",
       "    <tr>\n",
       "      <th>0</th>\n",
       "      <td>63.0</td>\n",
       "      <td>1.0</td>\n",
       "      <td>3.0</td>\n",
       "      <td>145.0</td>\n",
       "      <td>233.0</td>\n",
       "      <td>1.0</td>\n",
       "      <td>0.0</td>\n",
       "      <td>150.0</td>\n",
       "      <td>0.0</td>\n",
       "      <td>2.3</td>\n",
       "      <td>0.0</td>\n",
       "      <td>0.0</td>\n",
       "      <td>1.0</td>\n",
       "    </tr>\n",
       "    <tr>\n",
       "      <th>1</th>\n",
       "      <td>37.0</td>\n",
       "      <td>1.0</td>\n",
       "      <td>2.0</td>\n",
       "      <td>130.0</td>\n",
       "      <td>250.0</td>\n",
       "      <td>0.0</td>\n",
       "      <td>1.0</td>\n",
       "      <td>187.0</td>\n",
       "      <td>0.0</td>\n",
       "      <td>3.5</td>\n",
       "      <td>0.0</td>\n",
       "      <td>0.0</td>\n",
       "      <td>2.0</td>\n",
       "    </tr>\n",
       "    <tr>\n",
       "      <th>2</th>\n",
       "      <td>41.0</td>\n",
       "      <td>0.0</td>\n",
       "      <td>1.0</td>\n",
       "      <td>130.0</td>\n",
       "      <td>204.0</td>\n",
       "      <td>0.0</td>\n",
       "      <td>0.0</td>\n",
       "      <td>172.0</td>\n",
       "      <td>0.0</td>\n",
       "      <td>1.4</td>\n",
       "      <td>2.0</td>\n",
       "      <td>0.0</td>\n",
       "      <td>2.0</td>\n",
       "    </tr>\n",
       "    <tr>\n",
       "      <th>3</th>\n",
       "      <td>56.0</td>\n",
       "      <td>1.0</td>\n",
       "      <td>1.0</td>\n",
       "      <td>120.0</td>\n",
       "      <td>236.0</td>\n",
       "      <td>0.0</td>\n",
       "      <td>1.0</td>\n",
       "      <td>178.0</td>\n",
       "      <td>0.0</td>\n",
       "      <td>0.8</td>\n",
       "      <td>2.0</td>\n",
       "      <td>0.0</td>\n",
       "      <td>2.0</td>\n",
       "    </tr>\n",
       "    <tr>\n",
       "      <th>4</th>\n",
       "      <td>57.0</td>\n",
       "      <td>0.0</td>\n",
       "      <td>0.0</td>\n",
       "      <td>120.0</td>\n",
       "      <td>354.0</td>\n",
       "      <td>0.0</td>\n",
       "      <td>1.0</td>\n",
       "      <td>163.0</td>\n",
       "      <td>1.0</td>\n",
       "      <td>0.6</td>\n",
       "      <td>2.0</td>\n",
       "      <td>0.0</td>\n",
       "      <td>2.0</td>\n",
       "    </tr>\n",
       "    <tr>\n",
       "      <th>...</th>\n",
       "      <td>...</td>\n",
       "      <td>...</td>\n",
       "      <td>...</td>\n",
       "      <td>...</td>\n",
       "      <td>...</td>\n",
       "      <td>...</td>\n",
       "      <td>...</td>\n",
       "      <td>...</td>\n",
       "      <td>...</td>\n",
       "      <td>...</td>\n",
       "      <td>...</td>\n",
       "      <td>...</td>\n",
       "      <td>...</td>\n",
       "    </tr>\n",
       "    <tr>\n",
       "      <th>298</th>\n",
       "      <td>57.0</td>\n",
       "      <td>0.0</td>\n",
       "      <td>0.0</td>\n",
       "      <td>140.0</td>\n",
       "      <td>241.0</td>\n",
       "      <td>0.0</td>\n",
       "      <td>1.0</td>\n",
       "      <td>123.0</td>\n",
       "      <td>1.0</td>\n",
       "      <td>0.2</td>\n",
       "      <td>1.0</td>\n",
       "      <td>0.0</td>\n",
       "      <td>3.0</td>\n",
       "    </tr>\n",
       "    <tr>\n",
       "      <th>299</th>\n",
       "      <td>45.0</td>\n",
       "      <td>1.0</td>\n",
       "      <td>3.0</td>\n",
       "      <td>110.0</td>\n",
       "      <td>264.0</td>\n",
       "      <td>0.0</td>\n",
       "      <td>1.0</td>\n",
       "      <td>132.0</td>\n",
       "      <td>0.0</td>\n",
       "      <td>1.2</td>\n",
       "      <td>1.0</td>\n",
       "      <td>0.0</td>\n",
       "      <td>3.0</td>\n",
       "    </tr>\n",
       "    <tr>\n",
       "      <th>300</th>\n",
       "      <td>68.0</td>\n",
       "      <td>1.0</td>\n",
       "      <td>0.0</td>\n",
       "      <td>144.0</td>\n",
       "      <td>193.0</td>\n",
       "      <td>1.0</td>\n",
       "      <td>1.0</td>\n",
       "      <td>141.0</td>\n",
       "      <td>0.0</td>\n",
       "      <td>3.4</td>\n",
       "      <td>1.0</td>\n",
       "      <td>2.0</td>\n",
       "      <td>3.0</td>\n",
       "    </tr>\n",
       "    <tr>\n",
       "      <th>301</th>\n",
       "      <td>57.0</td>\n",
       "      <td>1.0</td>\n",
       "      <td>0.0</td>\n",
       "      <td>130.0</td>\n",
       "      <td>131.0</td>\n",
       "      <td>0.0</td>\n",
       "      <td>1.0</td>\n",
       "      <td>115.0</td>\n",
       "      <td>1.0</td>\n",
       "      <td>1.2</td>\n",
       "      <td>1.0</td>\n",
       "      <td>1.0</td>\n",
       "      <td>3.0</td>\n",
       "    </tr>\n",
       "    <tr>\n",
       "      <th>302</th>\n",
       "      <td>57.0</td>\n",
       "      <td>0.0</td>\n",
       "      <td>1.0</td>\n",
       "      <td>130.0</td>\n",
       "      <td>236.0</td>\n",
       "      <td>0.0</td>\n",
       "      <td>0.0</td>\n",
       "      <td>174.0</td>\n",
       "      <td>0.0</td>\n",
       "      <td>0.0</td>\n",
       "      <td>1.0</td>\n",
       "      <td>1.0</td>\n",
       "      <td>2.0</td>\n",
       "    </tr>\n",
       "  </tbody>\n",
       "</table>\n",
       "<p>290 rows × 13 columns</p>\n",
       "</div>"
      ],
      "text/plain": [
       "      age  sex   cp  trtbps   chol  fbs  restecg  thalachh  exng  oldpeak  \\\n",
       "0    63.0  1.0  3.0   145.0  233.0  1.0      0.0     150.0   0.0      2.3   \n",
       "1    37.0  1.0  2.0   130.0  250.0  0.0      1.0     187.0   0.0      3.5   \n",
       "2    41.0  0.0  1.0   130.0  204.0  0.0      0.0     172.0   0.0      1.4   \n",
       "3    56.0  1.0  1.0   120.0  236.0  0.0      1.0     178.0   0.0      0.8   \n",
       "4    57.0  0.0  0.0   120.0  354.0  0.0      1.0     163.0   1.0      0.6   \n",
       "..    ...  ...  ...     ...    ...  ...      ...       ...   ...      ...   \n",
       "298  57.0  0.0  0.0   140.0  241.0  0.0      1.0     123.0   1.0      0.2   \n",
       "299  45.0  1.0  3.0   110.0  264.0  0.0      1.0     132.0   0.0      1.2   \n",
       "300  68.0  1.0  0.0   144.0  193.0  1.0      1.0     141.0   0.0      3.4   \n",
       "301  57.0  1.0  0.0   130.0  131.0  0.0      1.0     115.0   1.0      1.2   \n",
       "302  57.0  0.0  1.0   130.0  236.0  0.0      0.0     174.0   0.0      0.0   \n",
       "\n",
       "     slp  caa  thall  \n",
       "0    0.0  0.0    1.0  \n",
       "1    0.0  0.0    2.0  \n",
       "2    2.0  0.0    2.0  \n",
       "3    2.0  0.0    2.0  \n",
       "4    2.0  0.0    2.0  \n",
       "..   ...  ...    ...  \n",
       "298  1.0  0.0    3.0  \n",
       "299  1.0  0.0    3.0  \n",
       "300  1.0  2.0    3.0  \n",
       "301  1.0  1.0    3.0  \n",
       "302  1.0  1.0    2.0  \n",
       "\n",
       "[290 rows x 13 columns]"
      ]
     },
     "execution_count": 24,
     "metadata": {},
     "output_type": "execute_result"
    }
   ],
   "source": [
    "x=df.drop('output_1.0',axis=1)\n",
    "x"
   ]
  },
  {
   "cell_type": "code",
   "execution_count": 25,
   "id": "1e313b99",
   "metadata": {
    "execution": {
     "iopub.execute_input": "2024-08-04T12:08:46.811229Z",
     "iopub.status.busy": "2024-08-04T12:08:46.810455Z",
     "iopub.status.idle": "2024-08-04T12:08:46.823937Z",
     "shell.execute_reply": "2024-08-04T12:08:46.822343Z"
    },
    "papermill": {
     "duration": 0.038582,
     "end_time": "2024-08-04T12:08:46.826719",
     "exception": false,
     "start_time": "2024-08-04T12:08:46.788137",
     "status": "completed"
    },
    "tags": []
   },
   "outputs": [
    {
     "name": "stdout",
     "output_type": "stream",
     "text": [
      "<class 'pandas.core.frame.DataFrame'>\n",
      "Index: 290 entries, 0 to 302\n",
      "Data columns (total 14 columns):\n",
      " #   Column      Non-Null Count  Dtype  \n",
      "---  ------      --------------  -----  \n",
      " 0   age         290 non-null    float64\n",
      " 1   sex         290 non-null    float64\n",
      " 2   cp          290 non-null    float64\n",
      " 3   trtbps      290 non-null    float64\n",
      " 4   chol        290 non-null    float64\n",
      " 5   fbs         290 non-null    float64\n",
      " 6   restecg     290 non-null    float64\n",
      " 7   thalachh    290 non-null    float64\n",
      " 8   exng        290 non-null    float64\n",
      " 9   oldpeak     290 non-null    float64\n",
      " 10  slp         290 non-null    float64\n",
      " 11  caa         290 non-null    float64\n",
      " 12  thall       290 non-null    float64\n",
      " 13  output_1.0  290 non-null    int64  \n",
      "dtypes: float64(13), int64(1)\n",
      "memory usage: 34.0 KB\n"
     ]
    }
   ],
   "source": [
    "df.info()"
   ]
  },
  {
   "cell_type": "code",
   "execution_count": 26,
   "id": "746f4fdb",
   "metadata": {
    "execution": {
     "iopub.execute_input": "2024-08-04T12:08:46.871445Z",
     "iopub.status.busy": "2024-08-04T12:08:46.870997Z",
     "iopub.status.idle": "2024-08-04T12:08:46.880591Z",
     "shell.execute_reply": "2024-08-04T12:08:46.879228Z"
    },
    "papermill": {
     "duration": 0.034935,
     "end_time": "2024-08-04T12:08:46.883149",
     "exception": false,
     "start_time": "2024-08-04T12:08:46.848214",
     "status": "completed"
    },
    "tags": []
   },
   "outputs": [
    {
     "data": {
      "text/plain": [
       "0      1\n",
       "1      1\n",
       "2      1\n",
       "3      1\n",
       "4      1\n",
       "      ..\n",
       "298    0\n",
       "299    0\n",
       "300    0\n",
       "301    0\n",
       "302    0\n",
       "Name: output_1.0, Length: 290, dtype: int64"
      ]
     },
     "execution_count": 26,
     "metadata": {},
     "output_type": "execute_result"
    }
   ],
   "source": [
    "y=df['output_1.0']\n",
    "y"
   ]
  },
  {
   "cell_type": "code",
   "execution_count": 27,
   "id": "d04a9f45",
   "metadata": {
    "execution": {
     "iopub.execute_input": "2024-08-04T12:08:46.927469Z",
     "iopub.status.busy": "2024-08-04T12:08:46.927025Z",
     "iopub.status.idle": "2024-08-04T12:08:46.936813Z",
     "shell.execute_reply": "2024-08-04T12:08:46.935520Z"
    },
    "papermill": {
     "duration": 0.034893,
     "end_time": "2024-08-04T12:08:46.939340",
     "exception": false,
     "start_time": "2024-08-04T12:08:46.904447",
     "status": "completed"
    },
    "tags": []
   },
   "outputs": [],
   "source": [
    "from sklearn.model_selection import train_test_split\n",
    "x_train,x_test,y_train,y_test=train_test_split(x,y,test_size=.20,random_state=42)"
   ]
  },
  {
   "cell_type": "code",
   "execution_count": 28,
   "id": "f5469cf5",
   "metadata": {
    "execution": {
     "iopub.execute_input": "2024-08-04T12:08:46.984363Z",
     "iopub.status.busy": "2024-08-04T12:08:46.983944Z",
     "iopub.status.idle": "2024-08-04T12:08:46.994896Z",
     "shell.execute_reply": "2024-08-04T12:08:46.993711Z"
    },
    "papermill": {
     "duration": 0.036502,
     "end_time": "2024-08-04T12:08:46.997650",
     "exception": false,
     "start_time": "2024-08-04T12:08:46.961148",
     "status": "completed"
    },
    "tags": []
   },
   "outputs": [
    {
     "data": {
      "text/plain": [
       "output_1.0\n",
       "1    161\n",
       "0    129\n",
       "Name: count, dtype: int64"
      ]
     },
     "execution_count": 28,
     "metadata": {},
     "output_type": "execute_result"
    }
   ],
   "source": [
    "df['output_1.0'].value_counts()"
   ]
  },
  {
   "cell_type": "code",
   "execution_count": 29,
   "id": "313b11e3",
   "metadata": {
    "execution": {
     "iopub.execute_input": "2024-08-04T12:08:47.043852Z",
     "iopub.status.busy": "2024-08-04T12:08:47.043463Z",
     "iopub.status.idle": "2024-08-04T12:08:47.419389Z",
     "shell.execute_reply": "2024-08-04T12:08:47.418331Z"
    },
    "papermill": {
     "duration": 0.401869,
     "end_time": "2024-08-04T12:08:47.421975",
     "exception": false,
     "start_time": "2024-08-04T12:08:47.020106",
     "status": "completed"
    },
    "tags": []
   },
   "outputs": [
    {
     "data": {
      "text/plain": [
       "output_1.0\n",
       "1    129\n",
       "0    129\n",
       "Name: count, dtype: int64"
      ]
     },
     "execution_count": 29,
     "metadata": {},
     "output_type": "execute_result"
    }
   ],
   "source": [
    "from imblearn.over_sampling import SMOTE\n",
    "smote = SMOTE()\n",
    "x_train,y_train = smote.fit_resample(x_train,y_train)\n",
    "y_train.value_counts()"
   ]
  },
  {
   "cell_type": "code",
   "execution_count": 30,
   "id": "38fd2b85",
   "metadata": {
    "execution": {
     "iopub.execute_input": "2024-08-04T12:08:47.529212Z",
     "iopub.status.busy": "2024-08-04T12:08:47.528665Z",
     "iopub.status.idle": "2024-08-04T12:08:47.542803Z",
     "shell.execute_reply": "2024-08-04T12:08:47.541603Z"
    },
    "papermill": {
     "duration": 0.101686,
     "end_time": "2024-08-04T12:08:47.545441",
     "exception": false,
     "start_time": "2024-08-04T12:08:47.443755",
     "status": "completed"
    },
    "tags": []
   },
   "outputs": [],
   "source": [
    "from sklearn.preprocessing import StandardScaler\n",
    "scaler=StandardScaler()\n",
    "scaler.fit(x_train)\n",
    "x_train=scaler.transform(x_train)\n",
    "x_test=scaler.transform(x_test)"
   ]
  },
  {
   "cell_type": "code",
   "execution_count": 31,
   "id": "ff1da390",
   "metadata": {
    "execution": {
     "iopub.execute_input": "2024-08-04T12:08:47.591088Z",
     "iopub.status.busy": "2024-08-04T12:08:47.590653Z",
     "iopub.status.idle": "2024-08-04T12:08:47.776605Z",
     "shell.execute_reply": "2024-08-04T12:08:47.775257Z"
    },
    "papermill": {
     "duration": 0.212747,
     "end_time": "2024-08-04T12:08:47.779750",
     "exception": false,
     "start_time": "2024-08-04T12:08:47.567003",
     "status": "completed"
    },
    "tags": []
   },
   "outputs": [],
   "source": [
    "from sklearn.neighbors import KNeighborsClassifier\n",
    "from sklearn.svm import SVC\n",
    "from sklearn.tree import  DecisionTreeClassifier\n",
    "from sklearn.ensemble import RandomForestClassifier\n",
    "from xgboost import XGBClassifier\n",
    "from sklearn.metrics import accuracy_score"
   ]
  },
  {
   "cell_type": "code",
   "execution_count": 32,
   "id": "c3415fce",
   "metadata": {
    "execution": {
     "iopub.execute_input": "2024-08-04T12:08:47.826025Z",
     "iopub.status.busy": "2024-08-04T12:08:47.825626Z",
     "iopub.status.idle": "2024-08-04T12:08:47.831987Z",
     "shell.execute_reply": "2024-08-04T12:08:47.830728Z"
    },
    "papermill": {
     "duration": 0.032343,
     "end_time": "2024-08-04T12:08:47.834464",
     "exception": false,
     "start_time": "2024-08-04T12:08:47.802121",
     "status": "completed"
    },
    "tags": []
   },
   "outputs": [],
   "source": [
    "models={'KNeighborsClassifier':KNeighborsClassifier(),\n",
    "      'SVC':SVC(),\n",
    "      'DecisionTreeClassifierr':DecisionTreeClassifier(), \n",
    "      'RandomForestClassifier':RandomForestClassifier(),\n",
    "        'XGBClassifier':XGBClassifier()\n",
    "       }"
   ]
  },
  {
   "cell_type": "code",
   "execution_count": 33,
   "id": "64204a14",
   "metadata": {
    "execution": {
     "iopub.execute_input": "2024-08-04T12:08:47.880300Z",
     "iopub.status.busy": "2024-08-04T12:08:47.879545Z",
     "iopub.status.idle": "2024-08-04T12:08:48.286012Z",
     "shell.execute_reply": "2024-08-04T12:08:48.284990Z"
    },
    "papermill": {
     "duration": 0.432509,
     "end_time": "2024-08-04T12:08:48.288729",
     "exception": false,
     "start_time": "2024-08-04T12:08:47.856220",
     "status": "completed"
    },
    "tags": []
   },
   "outputs": [
    {
     "name": "stdout",
     "output_type": "stream",
     "text": [
      "Using model KNeighborsClassifier :\n",
      "Traning Accuracy : 0.875968992248062\n",
      "Testing Accuracy : 0.8620689655172413\n",
      "-----------------------------------\n",
      "\n",
      "Using model SVC :\n",
      "Traning Accuracy : 0.9341085271317829\n",
      "Testing Accuracy : 0.9137931034482759\n",
      "-----------------------------------\n",
      "\n",
      "Using model DecisionTreeClassifierr :\n",
      "Traning Accuracy : 1.0\n",
      "Testing Accuracy : 0.8448275862068966\n",
      "-----------------------------------\n",
      "\n",
      "Using model RandomForestClassifier :\n",
      "Traning Accuracy : 1.0\n",
      "Testing Accuracy : 0.896551724137931\n",
      "-----------------------------------\n",
      "\n",
      "Using model XGBClassifier :\n",
      "Traning Accuracy : 1.0\n",
      "Testing Accuracy : 0.8793103448275862\n",
      "-----------------------------------\n",
      "\n"
     ]
    }
   ],
   "source": [
    "for name,model in models.items():\n",
    "    print(f'Using model {name} :')\n",
    "    model.fit(x_train,y_train)\n",
    "    y_pred=model.predict(x_test)\n",
    "    print(f'Traning Accuracy : {accuracy_score(y_train,model.predict(x_train))}')\n",
    "    print(f'Testing Accuracy : {accuracy_score(y_test,y_pred)}')\n",
    "    print('-----------------------------------\\n')"
   ]
  },
  {
   "cell_type": "code",
   "execution_count": null,
   "id": "60718c42",
   "metadata": {
    "papermill": {
     "duration": 0.021542,
     "end_time": "2024-08-04T12:08:48.333844",
     "exception": false,
     "start_time": "2024-08-04T12:08:48.312302",
     "status": "completed"
    },
    "tags": []
   },
   "outputs": [],
   "source": []
  }
 ],
 "metadata": {
  "kaggle": {
   "accelerator": "none",
   "dataSources": [
    {
     "datasetId": 5493532,
     "sourceId": 9102521,
     "sourceType": "datasetVersion"
    }
   ],
   "dockerImageVersionId": 30746,
   "isGpuEnabled": false,
   "isInternetEnabled": true,
   "language": "python",
   "sourceType": "notebook"
  },
  "kernelspec": {
   "display_name": "Python 3",
   "language": "python",
   "name": "python3"
  },
  "language_info": {
   "codemirror_mode": {
    "name": "ipython",
    "version": 3
   },
   "file_extension": ".py",
   "mimetype": "text/x-python",
   "name": "python",
   "nbconvert_exporter": "python",
   "pygments_lexer": "ipython3",
   "version": "3.10.13"
  },
  "papermill": {
   "default_parameters": {},
   "duration": 12.945655,
   "end_time": "2024-08-04T12:08:49.078892",
   "environment_variables": {},
   "exception": null,
   "input_path": "__notebook__.ipynb",
   "output_path": "__notebook__.ipynb",
   "parameters": {},
   "start_time": "2024-08-04T12:08:36.133237",
   "version": "2.5.0"
  },
  "widgets": {
   "application/vnd.jupyter.widget-state+json": {
    "state": {},
    "version_major": 2,
    "version_minor": 0
   }
  }
 },
 "nbformat": 4,
 "nbformat_minor": 5
}
